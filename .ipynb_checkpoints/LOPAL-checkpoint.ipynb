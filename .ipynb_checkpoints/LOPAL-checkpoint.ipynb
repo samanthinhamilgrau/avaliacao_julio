{
 "cells": [
  {
   "cell_type": "markdown",
   "id": "647e21d0-da4e-4d13-a2a4-aa4c5690b19d",
   "metadata": {},
   "source": [
    "(20) Considerando a matriz abaixo, crie um laço for para calcular a média de uso de CPU por linha e imprima os resultados com 2 casas decimais. \n",
    "\n",
    "\n",
    "uso_cpu = [\n",
    "[20, 25, 40, 50, 45, 60, 55, 35, 70, 65],\n",
    "[30, 35, 50, 60, 40, 55, 60, 45, 50, 55],\n",
    "[15, 20, 30, 25, 35, 40, 45, 50, 55, 60],\n",
    "[10, 15, 25, 35, 45, 50, 55, 60, 65, 70],\n",
    "]"
   ]
  },
  {
   "cell_type": "code",
   "execution_count": 3,
   "id": "d73dd34c-d86c-4508-a903-0eeb10f69786",
   "metadata": {},
   "outputs": [
    {
     "name": "stdout",
     "output_type": "stream",
     "text": [
      "A média de uso de CPU da linha 1: 46.50\n",
      "A média de uso de CPU da linha 2: 48.00\n",
      "A média de uso de CPU da linha 3: 37.50\n",
      "A média de uso de CPU da linha 4: 43.00\n"
     ]
    }
   ],
   "source": [
    "uso_cpu = [\n",
    "    [20, 25, 40, 50, 45, 60, 55, 35, 70, 65],\n",
    "    [30, 35, 50, 60, 40, 55, 60, 45, 50, 55],\n",
    "    [15, 20, 30, 25, 35, 40, 45, 50, 55, 60],\n",
    "    [10, 15, 25, 35, 45, 50, 55, 60, 65, 70],\n",
    "]\n",
    "\n",
    "for i in range(4):\n",
    "    soma = 0\n",
    "    quantidade = 0\n",
    "    for valor in uso_cpu[i]:\n",
    "        soma += valor\n",
    "        quantidade += 1\n",
    "    media = soma / quantidade\n",
    "    print(f\"A média de uso de CPU da linha {i + 1}: {media:.2f}\")"
   ]
  },
  {
   "cell_type": "markdown",
   "id": "3776a11f-6839-421c-a09e-a286183d5c38",
   "metadata": {},
   "source": [
    "(20) Crie uma função chamada alerta_uso que recebe como parâmetro uma lista com os valores de uso de CPU de uma região. A função deve retornar True se algum valor ultrapassar 85% de uso, e False caso contrário. Teste a função para todas as regiões da matriz."
   ]
  },
  {
   "cell_type": "code",
   "execution_count": 6,
   "id": "18b861f1-fe6d-4946-a622-5d7ee86c60c4",
   "metadata": {},
   "outputs": [
    {
     "name": "stdout",
     "output_type": "stream",
     "text": [
      "Região 1 em alerta? False\n",
      "Região 2 em alerta? False\n",
      "Região 3 em alerta? False\n",
      "Região 4 em alerta? False\n"
     ]
    }
   ],
   "source": [
    "def alerta_uso(lista_uso):\n",
    "    for valor in lista_uso:\n",
    "        if valor > 85:\n",
    "            return True\n",
    "    return False\n",
    "\n",
    "for i in range(4):\n",
    "    resultado = alerta_uso(uso_cpu[i])\n",
    "    print(f\"Região {i + 1} em alerta? {resultado}\")"
   ]
  }
 ],
 "metadata": {
  "kernelspec": {
   "display_name": "Python 3 (ipykernel)",
   "language": "python",
   "name": "python3"
  },
  "language_info": {
   "codemirror_mode": {
    "name": "ipython",
    "version": 3
   },
   "file_extension": ".py",
   "mimetype": "text/x-python",
   "name": "python",
   "nbconvert_exporter": "python",
   "pygments_lexer": "ipython3",
   "version": "3.12.7"
  }
 },
 "nbformat": 4,
 "nbformat_minor": 5
}
