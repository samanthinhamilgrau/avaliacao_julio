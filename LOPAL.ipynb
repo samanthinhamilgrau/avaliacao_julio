{
 "cells": [
  {
   "cell_type": "markdown",
   "id": "647e21d0-da4e-4d13-a2a4-aa4c5690b19d",
   "metadata": {},
   "source": [
    "(20) Considerando a matriz abaixo, crie um laço for para calcular a média de uso de CPU por linha e imprima os resultados com 2 casas decimais. \n",
    "\n",
    "\n",
    "uso_cpu = [\n",
    "[20, 25, 40, 50, 45, 60, 55, 35, 70, 65],\n",
    "[30, 35, 50, 60, 40, 55, 60, 45, 50, 55],\n",
    "[15, 20, 30, 25, 35, 40, 45, 50, 55, 60],\n",
    "[10, 15, 25, 35, 45, 50, 55, 60, 65, 70],\n",
    "]"
   ]
  },
  {
   "cell_type": "code",
   "execution_count": 25,
   "id": "d73dd34c-d86c-4508-a903-0eeb10f69786",
   "metadata": {},
   "outputs": [
    {
     "name": "stdout",
     "output_type": "stream",
     "text": [
      "A média de uso de CPU da linha 1: 46.50\n",
      "A média de uso de CPU da linha 2: 48.00\n",
      "A média de uso de CPU da linha 3: 37.50\n",
      "A média de uso de CPU da linha 4: 43.00\n"
     ]
    }
   ],
   "source": [
    "uso_cpu = [\n",
    "    [20, 25, 40, 50, 45, 60, 55, 35, 70, 65],\n",
    "    [30, 35, 50, 60, 40, 55, 60, 45, 50, 55],\n",
    "    [15, 20, 30, 25, 35, 40, 45, 50, 55, 60],\n",
    "    [10, 15, 25, 35, 45, 50, 55, 60, 65, 70],\n",
    "]\n",
    "\n",
    "for i in range(4):\n",
    "    soma = 0\n",
    "    quantidade = 0\n",
    "    for valor in uso_cpu[i]:\n",
    "        soma += valor\n",
    "        quantidade += 1\n",
    "    media = soma / quantidade\n",
    "    print(f\"A média de uso de CPU da linha {i + 1}: {media:.2f}\")"
   ]
  },
  {
   "cell_type": "markdown",
   "id": "3776a11f-6839-421c-a09e-a286183d5c38",
   "metadata": {},
   "source": [
    "(20) Crie uma função chamada alerta_uso que recebe como parâmetro uma lista com os valores de uso de CPU de uma região. A função deve retornar True se algum valor ultrapassar 85% de uso, e False caso contrário. Teste a função para todas as regiões da matriz."
   ]
  },
  {
   "cell_type": "code",
   "execution_count": 26,
   "id": "18b861f1-fe6d-4946-a622-5d7ee86c60c4",
   "metadata": {},
   "outputs": [
    {
     "name": "stdout",
     "output_type": "stream",
     "text": [
      "Região 1 em alerta? False\n",
      "Região 2 em alerta? False\n",
      "Região 3 em alerta? False\n",
      "Região 4 em alerta? False\n"
     ]
    }
   ],
   "source": [
    "def alerta_uso(lista_uso):\n",
    "    for valor in lista_uso:\n",
    "        if valor > 85:\n",
    "            return True\n",
    "    return False\n",
    "\n",
    "for i in range(4):\n",
    "    resultado = alerta_uso(uso_cpu[i])\n",
    "    print(f\"Região {i + 1} em alerta? {resultado}\")"
   ]
  },
  {
   "cell_type": "markdown",
   "id": "5bc9d37c-b004-4d64-a38d-0c46e39b4599",
   "metadata": {},
   "source": [
    "(20) Crie uma função chamada dados_crescente que recebe como parâmetro uma lista com os valores de uso de CPU de uma região. A função deve retornar a lista organizada em ordem crescente, do menor uso de CPU para o maior. Teste a função para todas as regiões da matriz"
   ]
  },
  {
   "cell_type": "code",
   "execution_count": 20,
   "id": "e9efdec4-bd52-4ae8-935f-f2bb70dd8904",
   "metadata": {},
   "outputs": [
    {
     "name": "stdout",
     "output_type": "stream",
     "text": [
      "Região 1 ordenada: [20, 25, 35, 40, 45, 50, 55, 60, 65, 70]\n",
      "Região 2 ordenada: [30, 35, 40, 45, 50, 50, 55, 55, 60, 60]\n",
      "Região 3 ordenada: [15, 20, 25, 30, 35, 40, 45, 50, 55, 60]\n",
      "Região 4 ordenada: [10, 15, 25, 35, 45, 50, 55, 60, 65, 70]\n"
     ]
    }
   ],
   "source": [
    "def dados_crescente(lista):\n",
    "    return sorted(lista)\n",
    "\n",
    "for i in range(4):\n",
    "    ordenada = dados_crescente(uso_cpu[i])\n",
    "    print(f\"Região {i + 1} ordenada: {ordenada}\")"
   ]
  },
  {
   "cell_type": "markdown",
   "id": "7d6d7747-b887-432e-97d1-e4180ad1487c",
   "metadata": {},
   "source": [
    "Utilizando a biblioteca pandas, crie um DataFrame com os dados da matriz acima. Os nomes das linhas devem ser [\"hora_1\", \"hora_2\",..., \"hora_10\"] e as colunas representam as regiões [\"us-east-1\", \"us-west-2\", \"eu-central-1\", \"sa-east-1\", \" ap-southeast-1\"  ].  "
   ]
  },
  {
   "cell_type": "code",
   "execution_count": 24,
   "id": "6a866a5a-f2a5-4f27-90d0-eec7fd66fc1f",
   "metadata": {},
   "outputs": [],
   "source": [
    "import pandas as pd"
   ]
  },
  {
   "cell_type": "code",
   "execution_count": 27,
   "id": "a9cd2617-b8e5-4597-8ada-b2a8e72475cf",
   "metadata": {},
   "outputs": [
    {
     "name": "stdout",
     "output_type": "stream",
     "text": [
      "              hora_1  hora_2  hora_3  hora_4  hora_5  hora_6  hora_7  hora_8  \\\n",
      "us-east-1         20      25      40      50      45      60      55      35   \n",
      "us-west-2         30      35      50      60      40      55      60      45   \n",
      "eu-central-1      15      20      30      25      35      40      45      50   \n",
      "sa-east-1         10      15      25      35      45      50      55      60   \n",
      "\n",
      "              hora_9  hora_10  \n",
      "us-east-1         70       65  \n",
      "us-west-2         50       55  \n",
      "eu-central-1      55       60  \n",
      "sa-east-1         65       70  \n"
     ]
    }
   ],
   "source": [
    "uso_cpu = [\n",
    "    [20, 25, 40, 50, 45, 60, 55, 35, 70, 65],\n",
    "    [30, 35, 50, 60, 40, 55, 60, 45, 50, 55],\n",
    "    [15, 20, 30, 25, 35, 40, 45, 50, 55, 60],\n",
    "    [10, 15, 25, 35, 45, 50, 55, 60, 65, 70],\n",
    "]\n",
    "\n",
    "# Nomes das colunas (horas)\n",
    "colunas = [f\"hora_{i+1}\" for i in range(10)]\n",
    "\n",
    "# Nomes das linhas (regiões)\n",
    "linhas = [\"us-east-1\", \"us-west-2\", \"eu-central-1\", \"sa-east-1\"]\n",
    "\n",
    "# Criando o DataFrame\n",
    "df = pd.DataFrame(uso_cpu, index=linhas, columns=colunas)\n",
    "\n",
    "print(df)"
   ]
  }
 ],
 "metadata": {
  "kernelspec": {
   "display_name": "Python 3 (ipykernel)",
   "language": "python",
   "name": "python3"
  },
  "language_info": {
   "codemirror_mode": {
    "name": "ipython",
    "version": 3
   },
   "file_extension": ".py",
   "mimetype": "text/x-python",
   "name": "python",
   "nbconvert_exporter": "python",
   "pygments_lexer": "ipython3",
   "version": "3.12.7"
  }
 },
 "nbformat": 4,
 "nbformat_minor": 5
}
